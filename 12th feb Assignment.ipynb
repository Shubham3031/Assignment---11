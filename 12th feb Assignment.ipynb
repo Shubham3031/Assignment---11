{
 "cells": [
  {
   "cell_type": "code",
   "execution_count": null,
   "id": "fb9bbacc-5697-41e8-93c3-7bececcfbc51",
   "metadata": {},
   "outputs": [],
   "source": [
    "# 1.Ans.\n",
    "\n",
    "In Python, an Exception is a type of error that occurs during the execution of a program. \n",
    "When an Exception is raised, it indicates that there is a problem that cannot be handled \n",
    "by the normal flow of the program.\n",
    "\n",
    "Exceptions are different from syntax errors in Python. \n",
    "Syntax errors occur when the Python interpreter encounters \n",
    "code that violates the rules of the Python language. \n",
    "These errors typically occur when there is a typo, a missing or extra parenthesis, \n",
    "or other errors that make the code invalid. \n",
    "Syntax errors prevent the code from being executed at all, \n",
    "and they need to be fixed before the code can be run.\n",
    "\n",
    "Exceptions, on the other hand, occur during the execution of a program, \n",
    "even if the code is syntactically correct. \n",
    "Exceptions can be caused by a wide range of issues, including \n",
    "trying to divide by zero, accessing a file that \n",
    "\\doesn't exist, or calling a method on an object that doesn't support that method.\n",
    "\n",
    "The main difference between Exceptions and syntax errors is \n",
    "that syntax errors occur before the code is executed,\n",
    "while Exceptions occur during the execution of the code. \n",
    "Additionally, syntax errors are typically caused by mistakes in the code itself,\n",
    "while Exceptions can be caused by a wide range of factors, including unexpected \n",
    "input, network failures, or hardware issues."
   ]
  },
  {
   "cell_type": "code",
   "execution_count": null,
   "id": "53f1fc49-da3e-48e1-8e7c-c1b68dc08797",
   "metadata": {},
   "outputs": [],
   "source": [
    "# 2.Ans.\n",
    "\n",
    "In Python, if an exception is not handled, the program will terminate\n",
    "with an error message that includes a traceback showing the path of \n",
    "execution up to the point where the exception occurred. \n",
    "This means that any code after the line that raised the exception will not be executed.\n",
    "\n",
    " Example:-\n",
    "    \n",
    "    def divide_by_zero(x):\n",
    "    return x / 0\n",
    "\n",
    "print(divide_by_zero(5))\n",
    "print(\"This line will not be executed because an exception occurr.\")\n",
    "\n",
    "In this example, the divide_by_zero function tries to divide a number by zero, \n",
    "which is not allowed in mathematics. As a result, a ZeroDivisionError exception is raised.\n"
   ]
  },
  {
   "cell_type": "code",
   "execution_count": 1,
   "id": "284dceb2-3ee9-402a-925b-5427a7c37bc9",
   "metadata": {},
   "outputs": [
    {
     "name": "stdin",
     "output_type": "stream",
     "text": [
      "Enter the value  50\n"
     ]
    },
    {
     "name": "stdout",
     "output_type": "stream",
     "text": [
      " Accptable age\n"
     ]
    }
   ],
   "source": [
    "# 3.Ans.\n",
    "\n",
    " # In Python, the try and except block is used to catch and handle exceptions.\n",
    "  #    Example:\n",
    "        \n",
    "def validateAge(n):\n",
    "    if n<0:\n",
    "        raise validateAge(\"Not acceptable\")\n",
    "    elif n>100:\n",
    "        raise validateAge(\"Very aged\")\n",
    "    else:\n",
    "        print(\" Accptable age\")\n",
    "        \n",
    "try:\n",
    "    n = int(input(\"Enter the value \"))\n",
    "    validateAge(n)\n",
    "except validateAge as e:\n",
    "    print(e)\n",
    "            "
   ]
  },
  {
   "cell_type": "code",
   "execution_count": null,
   "id": "efc938a1-1b89-4069-9c9d-4b9a3a559fca",
   "metadata": {},
   "outputs": [],
   "source": [
    "# 4.Ans. (a).\n",
    "\n",
    "try and else are two keywords in Python that are \n",
    "often used together to handle exceptions in code.\n",
    "The else block is optional and it is executed only if \n",
    "the try block did not raise any exception.\n",
    "\n",
    "    Example :\n",
    "        \n",
    "    try:\n",
    "    x = int(input(\"Enter a number: \"))\n",
    "    y = int(input(\"Enter Second  number: \"))\n",
    "    result = x / y\n",
    "except ValueError:\n",
    "    print(\"Enter only integer values.\")\n",
    "except ZeroDivisionError:\n",
    "    print(\"Division by zero is not allowed.\")\n",
    "else:\n",
    "    print(\"The result is:\", result)\n",
    "    \n",
    "    \n",
    "(b).\n",
    "\n",
    "finally is another keyword in Python that can be used with try and except blocks.\n",
    "\n",
    "The finally block is executed after the try and except blocks have finished executing,\n",
    "regardless of whether an exception was raised or not.\n",
    "\n",
    "    Example :\n",
    "        \n",
    "        try:\n",
    "    file = open(\"example.txt\", \"r\")\n",
    "    content = file.read()\n",
    "    print(content)\n",
    "except IOError:\n",
    "    print(\"Error: file not found.\")\n",
    "else:\n",
    "    print(\"File read successfully.\")\n",
    "finally:\n",
    "    file.close()\n",
    "\n",
    "(c).\n",
    "\n",
    "In Python, raise is a keyword used to raise an exception manually in a program.\n",
    "\n",
    "    Example :\n",
    "        \n",
    "        def divide(a, b):\n",
    "    if b == 0:\n",
    "        raise ZeroDivisionError(\"Division by zero is not allowed.\")\n",
    "    return a / b\n",
    "\n",
    "try:\n",
    "    result = divide(10, 0)\n",
    "except ZeroDivisionError as error:\n",
    "    print(error)\n",
    "\n",
    "    \n",
    "\n",
    "\n",
    "        \n",
    "        "
   ]
  },
  {
   "cell_type": "code",
   "execution_count": null,
   "id": "98a410ee-2bfb-48ec-876b-1cf5bf35bce3",
   "metadata": {},
   "outputs": [],
   "source": [
    "# 5.Ans.\n",
    "\n",
    "Custom exceptions in Python are user-defined exceptions \n",
    "that can be created by extending the Exception class or one of its subclasses.\n",
    "They allow developers to create specific exceptions for \n",
    "their application's domain and provide more meaningful and informative error messages for users.\n",
    "\n",
    "We need custom exceptions to improve the readability and maintainability of the code,\n",
    "as well as to provide more meaningful and descriptive error messages for users.\n",
    "Custom exceptions can also help to separate the \n",
    "application's domain logic from the language's built-in exceptions.\n",
    "\n",
    "    Example :\n",
    "        \n",
    "class invalidEmail(Exception) :\n",
    "    pass\n",
    "def send_mail(to,subject,body):\n",
    "    if not @ in to:\n",
    "        raise invalidEmail(\"Invalid Email Address : {} \".format(to))\n",
    "        "
   ]
  },
  {
   "cell_type": "code",
   "execution_count": 2,
   "id": "2f543d2d-366a-4619-96c8-55c1a4aa5739",
   "metadata": {},
   "outputs": [
    {
     "name": "stdout",
     "output_type": "stream",
     "text": [
      "Caught custom exception: This is a custom exception\n"
     ]
    }
   ],
   "source": [
    "# 6.Ans.\n",
    "\n",
    "class CustomException(Exception):\n",
    "    def __init__(self, message):\n",
    "        self.message = message\n",
    "        super().__init__(self.message)\n",
    "\n",
    "try:\n",
    "    raise CustomException(\"This is a custom exception\")\n",
    "except CustomException as ce:\n",
    "    print(\"Caught custom exception:\", ce.message)\n"
   ]
  }
 ],
 "metadata": {
  "kernelspec": {
   "display_name": "Python 3 (ipykernel)",
   "language": "python",
   "name": "python3"
  },
  "language_info": {
   "codemirror_mode": {
    "name": "ipython",
    "version": 3
   },
   "file_extension": ".py",
   "mimetype": "text/x-python",
   "name": "python",
   "nbconvert_exporter": "python",
   "pygments_lexer": "ipython3",
   "version": "3.10.6"
  }
 },
 "nbformat": 4,
 "nbformat_minor": 5
}
